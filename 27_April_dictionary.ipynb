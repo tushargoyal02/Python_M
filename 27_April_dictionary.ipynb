{
 "cells": [
  {
   "cell_type": "code",
   "execution_count": 1,
   "id": "395a312a",
   "metadata": {},
   "outputs": [],
   "source": [
    "# dictionary\n",
    "\n",
    "# collection of element  \n",
    "# comma\n",
    "# key : value   ( element)\n",
    "# key:value , key:value\n",
    "# don't have index position\n",
    "# mutuable in nature"
   ]
  },
  {
   "cell_type": "code",
   "execution_count": 3,
   "id": "2e88762d",
   "metadata": {},
   "outputs": [
    {
     "name": "stdout",
     "output_type": "stream",
     "text": [
      "{1: 'tushar', 2: 'aman', 3: 'aditya', 'company': 'regex software'}\n"
     ]
    }
   ],
   "source": [
    "mydictionary={1:\"tushar\",  2:\"aman\",  3:\"aditya\",\"company\":\"regex software\"}\n",
    "\n",
    "print(mydictionary)\n"
   ]
  },
  {
   "cell_type": "code",
   "execution_count": 8,
   "id": "18b396ed",
   "metadata": {},
   "outputs": [],
   "source": [
    "mydictionary={1:\"tushar\",  2:\"aman\",  3:\"aditya\",\"company\":\"regex software\"}\n",
    "\n",
    "# update\n",
    "mydictionary[1]=\"yash\""
   ]
  },
  {
   "cell_type": "code",
   "execution_count": 10,
   "id": "35f1b822",
   "metadata": {},
   "outputs": [
    {
     "data": {
      "text/plain": [
       "{1: 'yash', 2: 'aman', 3: 'aditya', 'company': 'regex software'}"
      ]
     },
     "execution_count": 10,
     "metadata": {},
     "output_type": "execute_result"
    }
   ],
   "source": [
    "mydictionary"
   ]
  },
  {
   "cell_type": "code",
   "execution_count": 11,
   "id": "e29ab92a",
   "metadata": {},
   "outputs": [
    {
     "data": {
      "text/plain": [
       "{1: 'tushar', 2: 'aman', 3: 'aditya', 'company': 'regex software', 4: 500}"
      ]
     },
     "execution_count": 11,
     "metadata": {},
     "output_type": "execute_result"
    }
   ],
   "source": [
    "mydictionary={1:\"tushar\",  2:\"aman\",  3:\"aditya\",\"company\":\"regex software\"}\n",
    "\n",
    "# insert based on key \n",
    "mydictionary[4]=500\n",
    "\n",
    "\n",
    "mydictionary"
   ]
  },
  {
   "cell_type": "code",
   "execution_count": 14,
   "id": "c1282e2e",
   "metadata": {},
   "outputs": [
    {
     "name": "stdout",
     "output_type": "stream",
     "text": [
      "aman\n"
     ]
    }
   ],
   "source": [
    "x=mydictionary.pop(2)\n",
    "print(x)"
   ]
  },
  {
   "cell_type": "code",
   "execution_count": 17,
   "id": "194d94c8",
   "metadata": {},
   "outputs": [
    {
     "name": "stdout",
     "output_type": "stream",
     "text": [
      "('company', 'regex software')\n"
     ]
    }
   ],
   "source": [
    "# key value pair delete and return\n",
    "x=mydictionary.popitem()\n",
    "print(x)"
   ]
  },
  {
   "cell_type": "code",
   "execution_count": 20,
   "id": "1c87306e",
   "metadata": {},
   "outputs": [
    {
     "data": {
      "text/plain": [
       "{1: 'tushar', 3: 'aditya'}"
      ]
     },
     "execution_count": 20,
     "metadata": {},
     "output_type": "execute_result"
    }
   ],
   "source": [
    "mydictionary"
   ]
  },
  {
   "cell_type": "code",
   "execution_count": 24,
   "id": "ad740360",
   "metadata": {},
   "outputs": [
    {
     "data": {
      "text/plain": [
       "False"
      ]
     },
     "execution_count": 24,
     "metadata": {},
     "output_type": "execute_result"
    }
   ],
   "source": [
    "\"tushar\" in mydictionary"
   ]
  },
  {
   "cell_type": "code",
   "execution_count": 26,
   "id": "3f7e8646",
   "metadata": {},
   "outputs": [
    {
     "data": {
      "text/plain": [
       "dict_keys([1, 3])"
      ]
     },
     "execution_count": 26,
     "metadata": {},
     "output_type": "execute_result"
    }
   ],
   "source": [
    "mydictionary.keys()"
   ]
  },
  {
   "cell_type": "code",
   "execution_count": 28,
   "id": "e38757fb",
   "metadata": {},
   "outputs": [
    {
     "data": {
      "text/plain": [
       "dict_values(['tushar', 'aditya'])"
      ]
     },
     "execution_count": 28,
     "metadata": {},
     "output_type": "execute_result"
    }
   ],
   "source": [
    "mydictionary.values()"
   ]
  },
  {
   "cell_type": "code",
   "execution_count": 30,
   "id": "d3b3a77c",
   "metadata": {},
   "outputs": [
    {
     "data": {
      "text/plain": [
       "dict_items([(1, 'tushar'), (3, 'aditya')])"
      ]
     },
     "execution_count": 30,
     "metadata": {},
     "output_type": "execute_result"
    }
   ],
   "source": [
    "mydictionary.items()"
   ]
  },
  {
   "cell_type": "code",
   "execution_count": 31,
   "id": "6b5d24ce",
   "metadata": {},
   "outputs": [
    {
     "data": {
      "text/plain": [
       "{1: 'tushar', 3: 'aditya'}"
      ]
     },
     "execution_count": 31,
     "metadata": {},
     "output_type": "execute_result"
    }
   ],
   "source": [
    "mydictionary"
   ]
  },
  {
   "cell_type": "code",
   "execution_count": 47,
   "id": "e5b1a344",
   "metadata": {},
   "outputs": [
    {
     "data": {
      "text/plain": [
       "{1: 'tushar', 3: 'aditya', 100: 1, 200: 10}"
      ]
     },
     "execution_count": 47,
     "metadata": {},
     "output_type": "execute_result"
    }
   ],
   "source": [
    "mydictionary"
   ]
  },
  {
   "cell_type": "code",
   "execution_count": 82,
   "id": "993d7273",
   "metadata": {},
   "outputs": [
    {
     "name": "stdout",
     "output_type": "stream",
     "text": [
      "{1: 'tushar', 3: 'aditya', 100: 1, 200: 80}\n"
     ]
    }
   ],
   "source": [
    "x=200\n",
    "\n",
    "if(x not in mydictionary):\n",
    "    mydictionary[x]=1\n",
    "\n",
    "else:\n",
    "    mydictionary[x] = mydictionary[x]+1\n",
    "\n",
    "\n",
    "print(mydictionary)"
   ]
  },
  {
   "cell_type": "code",
   "execution_count": 41,
   "id": "5006d238",
   "metadata": {},
   "outputs": [],
   "source": [
    "# \"hello tushar\"\n",
    "#{totalcharacter:12}"
   ]
  },
  {
   "cell_type": "code",
   "execution_count": 83,
   "id": "1309e60c",
   "metadata": {},
   "outputs": [
    {
     "name": "stdout",
     "output_type": "stream",
     "text": [
      "12\n"
     ]
    }
   ],
   "source": [
    "data=\"hello tushar\"\n",
    "total=0\n",
    "for char in data:\n",
    "    total+=1\n",
    "    \n",
    "print(total)"
   ]
  },
  {
   "cell_type": "code",
   "execution_count": 88,
   "id": "65f1fc1e",
   "metadata": {},
   "outputs": [
    {
     "name": "stdout",
     "output_type": "stream",
     "text": [
      "{'totalchar': 12}\n"
     ]
    }
   ],
   "source": [
    "# \"hello tushar yash hey\"\n",
    "#{totalcharacter:12}\n",
    "mydictionary={}\n",
    "for i in \"hello tushar\":\n",
    "    if(\"totalchar\" not in mydictionary):\n",
    "        mydictionary[\"totalchar\"]=1\n",
    "    else:\n",
    "        mydictionary[\"totalchar\"] = mydictionary[\"totalchar\"]+1\n",
    "        \n",
    "print(mydictionary)\n",
    "    "
   ]
  },
  {
   "cell_type": "code",
   "execution_count": 91,
   "id": "d7d24275",
   "metadata": {},
   "outputs": [
    {
     "name": "stdout",
     "output_type": "stream",
     "text": [
      "{'h': 1, 'e': 1, 'l': 1, 'o': 1, ' ': 1, 'y': 1}\n"
     ]
    }
   ],
   "source": [
    "mydictionary={}\n",
    "for i in \"hello hey\":\n",
    "    if (i not in mydictionary):\n",
    "        mydictionary[i]=1\n",
    "        \n",
    "print(mydictionary)"
   ]
  }
 ],
 "metadata": {
  "kernelspec": {
   "display_name": "Python 3 (ipykernel)",
   "language": "python",
   "name": "python3"
  },
  "language_info": {
   "codemirror_mode": {
    "name": "ipython",
    "version": 3
   },
   "file_extension": ".py",
   "mimetype": "text/x-python",
   "name": "python",
   "nbconvert_exporter": "python",
   "pygments_lexer": "ipython3",
   "version": "3.10.11"
  }
 },
 "nbformat": 4,
 "nbformat_minor": 5
}
