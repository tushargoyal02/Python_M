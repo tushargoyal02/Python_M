{
 "cells": [
  {
   "cell_type": "code",
   "execution_count": 1,
   "id": "2ee2da84",
   "metadata": {},
   "outputs": [
    {
     "data": {
      "text/plain": [
       "1"
      ]
     },
     "execution_count": 1,
     "metadata": {},
     "output_type": "execute_result"
    }
   ],
   "source": [
    "# Bitwise & identity\n",
    "\n",
    "# numbers\n",
    "# number => bits 0,1\n",
    "\n",
    "9&5"
   ]
  },
  {
   "cell_type": "code",
   "execution_count": 2,
   "id": "3565c6c9",
   "metadata": {},
   "outputs": [
    {
     "data": {
      "text/plain": [
       "10"
      ]
     },
     "execution_count": 2,
     "metadata": {},
     "output_type": "execute_result"
    }
   ],
   "source": [
    "10&14"
   ]
  },
  {
   "cell_type": "code",
   "execution_count": 3,
   "id": "c8cec6d2",
   "metadata": {},
   "outputs": [
    {
     "data": {
      "text/plain": [
       "14"
      ]
     },
     "execution_count": 3,
     "metadata": {},
     "output_type": "execute_result"
    }
   ],
   "source": [
    "10 |  14"
   ]
  },
  {
   "cell_type": "code",
   "execution_count": 5,
   "id": "3648ce52",
   "metadata": {},
   "outputs": [
    {
     "data": {
      "text/plain": [
       "5"
      ]
     },
     "execution_count": 5,
     "metadata": {},
     "output_type": "execute_result"
    }
   ],
   "source": [
    "# bitwise right shift\n",
    "\n",
    "11 >> 1"
   ]
  },
  {
   "cell_type": "code",
   "execution_count": 6,
   "id": "b49e417e",
   "metadata": {},
   "outputs": [],
   "source": [
    "# number  //  2**bit   [shit]\n",
    "# 11 // 2**1\n",
    "# 11//2\n",
    "#5\n",
    "\n",
    "\n",
    "# 49 >> 2\n",
    "# 49  //  2**2\n",
    "# 49  // 4"
   ]
  },
  {
   "cell_type": "code",
   "execution_count": 7,
   "id": "31b5f485",
   "metadata": {},
   "outputs": [
    {
     "data": {
      "text/plain": [
       "12"
      ]
     },
     "execution_count": 7,
     "metadata": {},
     "output_type": "execute_result"
    }
   ],
   "source": [
    "49 >> 2"
   ]
  },
  {
   "cell_type": "code",
   "execution_count": 8,
   "id": "b487e743",
   "metadata": {},
   "outputs": [],
   "source": [
    "# right =>  # number  //  2**bit   [shit]\n",
    "#left shift => number  *  2**bit   [shit]"
   ]
  },
  {
   "cell_type": "code",
   "execution_count": 9,
   "id": "4bd8468b",
   "metadata": {},
   "outputs": [],
   "source": [
    "# XOR operator ( self learn )\n"
   ]
  },
  {
   "cell_type": "code",
   "execution_count": 10,
   "id": "cbc5d450",
   "metadata": {},
   "outputs": [],
   "source": [
    "# identity operator\n",
    "\n",
    "# to check variable  kisi data type \n",
    "# object class ko belong"
   ]
  },
  {
   "cell_type": "code",
   "execution_count": 11,
   "id": "df36460b",
   "metadata": {},
   "outputs": [],
   "source": [
    "age=50\n"
   ]
  },
  {
   "cell_type": "code",
   "execution_count": 12,
   "id": "3cf61957",
   "metadata": {},
   "outputs": [
    {
     "data": {
      "text/plain": [
       "int"
      ]
     },
     "execution_count": 12,
     "metadata": {},
     "output_type": "execute_result"
    }
   ],
   "source": [
    "type(age)"
   ]
  },
  {
   "cell_type": "code",
   "execution_count": 14,
   "id": "c129fac2",
   "metadata": {},
   "outputs": [
    {
     "data": {
      "text/plain": [
       "True"
      ]
     },
     "execution_count": 14,
     "metadata": {},
     "output_type": "execute_result"
    }
   ],
   "source": [
    "type(age)  is int"
   ]
  },
  {
   "cell_type": "code",
   "execution_count": 15,
   "id": "af8111d9",
   "metadata": {},
   "outputs": [
    {
     "data": {
      "text/plain": [
       "False"
      ]
     },
     "execution_count": 15,
     "metadata": {},
     "output_type": "execute_result"
    }
   ],
   "source": [
    "city=\"Jaipur\"\n",
    "type(city) is int"
   ]
  },
  {
   "cell_type": "code",
   "execution_count": 16,
   "id": "c378426e",
   "metadata": {},
   "outputs": [
    {
     "data": {
      "text/plain": [
       "True"
      ]
     },
     "execution_count": 16,
     "metadata": {},
     "output_type": "execute_result"
    }
   ],
   "source": [
    "city=\"Jaipur\"\n",
    "type(city) is not int"
   ]
  },
  {
   "cell_type": "code",
   "execution_count": 19,
   "id": "6a4237ca",
   "metadata": {},
   "outputs": [
    {
     "name": "stdout",
     "output_type": "stream",
     "text": [
      "2484096083536 2484096084656\n"
     ]
    }
   ],
   "source": [
    "x=500\n",
    "y=500\n",
    "print(id(x), id(y))"
   ]
  },
  {
   "cell_type": "code",
   "execution_count": 21,
   "id": "209b99ea",
   "metadata": {},
   "outputs": [
    {
     "data": {
      "text/plain": [
       "False"
      ]
     },
     "execution_count": 21,
     "metadata": {},
     "output_type": "execute_result"
    }
   ],
   "source": [
    "x is  y"
   ]
  },
  {
   "cell_type": "code",
   "execution_count": 22,
   "id": "6ceb67e0",
   "metadata": {},
   "outputs": [
    {
     "data": {
      "text/plain": [
       "True"
      ]
     },
     "execution_count": 22,
     "metadata": {},
     "output_type": "execute_result"
    }
   ],
   "source": [
    "x==y"
   ]
  },
  {
   "cell_type": "code",
   "execution_count": 23,
   "id": "0c0fb14b",
   "metadata": {},
   "outputs": [],
   "source": [
    "#  ==  and is operator"
   ]
  },
  {
   "cell_type": "code",
   "execution_count": 24,
   "id": "f1f8a92c",
   "metadata": {},
   "outputs": [],
   "source": [
    "# string indexing & slicing\n"
   ]
  },
  {
   "cell_type": "code",
   "execution_count": 25,
   "id": "4b087c68",
   "metadata": {},
   "outputs": [
    {
     "data": {
      "text/plain": [
       "'R'"
      ]
     },
     "execution_count": 25,
     "metadata": {},
     "output_type": "execute_result"
    }
   ],
   "source": [
    "state=\"RAJASTHAN\"\n",
    "\n",
    "state[0]"
   ]
  },
  {
   "cell_type": "code",
   "execution_count": 26,
   "id": "9f761058",
   "metadata": {},
   "outputs": [
    {
     "data": {
      "text/plain": [
       "'N'"
      ]
     },
     "execution_count": 26,
     "metadata": {},
     "output_type": "execute_result"
    }
   ],
   "source": [
    "state=\"RAJASTHAN\"\n",
    "\n",
    "state[-1]"
   ]
  },
  {
   "cell_type": "code",
   "execution_count": 27,
   "id": "61a2942c",
   "metadata": {},
   "outputs": [
    {
     "data": {
      "text/plain": [
       "'A'"
      ]
     },
     "execution_count": 27,
     "metadata": {},
     "output_type": "execute_result"
    }
   ],
   "source": [
    "state=\"RAJASTHAN\"\n",
    "\n",
    "state[3]"
   ]
  },
  {
   "cell_type": "code",
   "execution_count": 32,
   "id": "6ca6433d",
   "metadata": {},
   "outputs": [
    {
     "data": {
      "text/plain": [
       "'RAJAS'"
      ]
     },
     "execution_count": 32,
     "metadata": {},
     "output_type": "execute_result"
    }
   ],
   "source": [
    "# slicing   [ start : stop  :  [step=1] ]\n",
    "# stopping that is exclusive\n",
    "state=\"RAJASTHAN\"\n",
    "\n",
    "state[0:5]"
   ]
  },
  {
   "cell_type": "code",
   "execution_count": 34,
   "id": "5a08a5f2",
   "metadata": {},
   "outputs": [
    {
     "data": {
      "text/plain": [
       "'JAS'"
      ]
     },
     "execution_count": 34,
     "metadata": {},
     "output_type": "execute_result"
    }
   ],
   "source": [
    "state=\"RAJASTHAN\"\n",
    "\n",
    "state[2:5]"
   ]
  },
  {
   "cell_type": "code",
   "execution_count": 38,
   "id": "bcba0bee",
   "metadata": {},
   "outputs": [
    {
     "data": {
      "text/plain": [
       "'RAJASTHAN'"
      ]
     },
     "execution_count": 38,
     "metadata": {},
     "output_type": "execute_result"
    }
   ],
   "source": [
    "state=\"RAJASTHAN\"\n",
    "\n",
    "state[0:100]"
   ]
  },
  {
   "cell_type": "code",
   "execution_count": 40,
   "id": "14d5fd19",
   "metadata": {},
   "outputs": [
    {
     "data": {
      "text/plain": [
       "'RAJA'"
      ]
     },
     "execution_count": 40,
     "metadata": {},
     "output_type": "execute_result"
    }
   ],
   "source": [
    "state=\"RAJASTHAN\"\n",
    "\n",
    "state[0:4]"
   ]
  },
  {
   "cell_type": "code",
   "execution_count": 41,
   "id": "97f534e6",
   "metadata": {},
   "outputs": [
    {
     "data": {
      "text/plain": [
       "'RAJA'"
      ]
     },
     "execution_count": 41,
     "metadata": {},
     "output_type": "execute_result"
    }
   ],
   "source": [
    "state=\"RAJASTHAN\"\n",
    "\n",
    "state[0:4:1]"
   ]
  },
  {
   "cell_type": "code",
   "execution_count": 42,
   "id": "8f1347ee",
   "metadata": {},
   "outputs": [
    {
     "data": {
      "text/plain": [
       "'RJ'"
      ]
     },
     "execution_count": 42,
     "metadata": {},
     "output_type": "execute_result"
    }
   ],
   "source": [
    "state=\"RAJASTHAN\"\n",
    "\n",
    "state[0:4:2]"
   ]
  },
  {
   "cell_type": "code",
   "execution_count": 44,
   "id": "d9513ced",
   "metadata": {},
   "outputs": [
    {
     "data": {
      "text/plain": [
       "'JT'"
      ]
     },
     "execution_count": 44,
     "metadata": {},
     "output_type": "execute_result"
    }
   ],
   "source": [
    "state=\"RAJASTHAN\"\n",
    "\n",
    "state[2:8:3]"
   ]
  },
  {
   "cell_type": "code",
   "execution_count": 45,
   "id": "55d38317",
   "metadata": {},
   "outputs": [
    {
     "data": {
      "text/plain": [
       "''"
      ]
     },
     "execution_count": 45,
     "metadata": {},
     "output_type": "execute_result"
    }
   ],
   "source": [
    "state=\"RAJASTHAN\"\n",
    "\n",
    "state[0:4:-1]"
   ]
  },
  {
   "cell_type": "code",
   "execution_count": 48,
   "id": "82dc3a60",
   "metadata": {},
   "outputs": [
    {
     "data": {
      "text/plain": [
       "''"
      ]
     },
     "execution_count": 48,
     "metadata": {},
     "output_type": "execute_result"
    }
   ],
   "source": [
    "state=\"RAJASTHAN\"\n",
    "\n",
    "state[-1:-4]"
   ]
  },
  {
   "cell_type": "code",
   "execution_count": 49,
   "id": "382eff35",
   "metadata": {},
   "outputs": [
    {
     "data": {
      "text/plain": [
       "'NAH'"
      ]
     },
     "execution_count": 49,
     "metadata": {},
     "output_type": "execute_result"
    }
   ],
   "source": [
    "state=\"RAJASTHAN\"\n",
    "\n",
    "state[-1:-4:-1]"
   ]
  },
  {
   "cell_type": "code",
   "execution_count": 50,
   "id": "14361689",
   "metadata": {},
   "outputs": [
    {
     "data": {
      "text/plain": [
       "'THA'"
      ]
     },
     "execution_count": 50,
     "metadata": {},
     "output_type": "execute_result"
    }
   ],
   "source": [
    "state=\"RAJASTHAN\"\n",
    "\n",
    "state[-4:-1]"
   ]
  },
  {
   "cell_type": "code",
   "execution_count": 51,
   "id": "7d56072d",
   "metadata": {},
   "outputs": [
    {
     "data": {
      "text/plain": [
       "'AT'"
      ]
     },
     "execution_count": 51,
     "metadata": {},
     "output_type": "execute_result"
    }
   ],
   "source": [
    "state=\"RAJASTHAN\"\n",
    "\n",
    "state[-6:-2:2]"
   ]
  },
  {
   "cell_type": "code",
   "execution_count": 52,
   "id": "06025f9f",
   "metadata": {},
   "outputs": [],
   "source": [
    "# starting  / ending is missing    ( step is very imporant)"
   ]
  },
  {
   "cell_type": "code",
   "execution_count": 55,
   "id": "03d9ebff",
   "metadata": {},
   "outputs": [
    {
     "data": {
      "text/plain": [
       "'JASTHAN'"
      ]
     },
     "execution_count": 55,
     "metadata": {},
     "output_type": "execute_result"
    }
   ],
   "source": [
    "state=\"RAJASTHAN\"\n",
    "\n",
    "state[2:]"
   ]
  },
  {
   "cell_type": "code",
   "execution_count": 57,
   "id": "e9987e51",
   "metadata": {},
   "outputs": [
    {
     "data": {
      "text/plain": [
       "'RSN'"
      ]
     },
     "execution_count": 57,
     "metadata": {},
     "output_type": "execute_result"
    }
   ],
   "source": [
    "state=\"RAJASTHAN\"\n",
    "\n",
    "state[0::4]"
   ]
  },
  {
   "cell_type": "code",
   "execution_count": 59,
   "id": "11362ec4",
   "metadata": {},
   "outputs": [
    {
     "data": {
      "text/plain": [
       "'RAJ'"
      ]
     },
     "execution_count": 59,
     "metadata": {},
     "output_type": "execute_result"
    }
   ],
   "source": [
    "state=\"RAJASTHAN\"\n",
    "\n",
    "state[:3:1]"
   ]
  },
  {
   "cell_type": "code",
   "execution_count": 60,
   "id": "df99c492",
   "metadata": {},
   "outputs": [
    {
     "data": {
      "text/plain": [
       "'R'"
      ]
     },
     "execution_count": 60,
     "metadata": {},
     "output_type": "execute_result"
    }
   ],
   "source": [
    "state=\"RAJASTHAN\"\n",
    "\n",
    "state[0::-1]"
   ]
  },
  {
   "cell_type": "code",
   "execution_count": 61,
   "id": "9468b214",
   "metadata": {},
   "outputs": [
    {
     "data": {
      "text/plain": [
       "'AJAR'"
      ]
     },
     "execution_count": 61,
     "metadata": {},
     "output_type": "execute_result"
    }
   ],
   "source": [
    "state=\"RAJASTHAN\"\n",
    "\n",
    "state[3::-1]"
   ]
  },
  {
   "cell_type": "code",
   "execution_count": 63,
   "id": "96bcedec",
   "metadata": {},
   "outputs": [
    {
     "data": {
      "text/plain": [
       "'TSAJAR'"
      ]
     },
     "execution_count": 63,
     "metadata": {},
     "output_type": "execute_result"
    }
   ],
   "source": [
    "state=\"RAJASTHAN\"\n",
    "\n",
    "state[-4::-1]"
   ]
  },
  {
   "cell_type": "code",
   "execution_count": 67,
   "id": "211c6c93",
   "metadata": {},
   "outputs": [
    {
     "data": {
      "text/plain": [
       "'NAHTSAJAR'"
      ]
     },
     "execution_count": 67,
     "metadata": {},
     "output_type": "execute_result"
    }
   ],
   "source": [
    "state=\"RAJASTHAN\"\n",
    "\n",
    "state[::-1]"
   ]
  },
  {
   "cell_type": "code",
   "execution_count": 68,
   "id": "33cc4a33",
   "metadata": {},
   "outputs": [
    {
     "data": {
      "text/plain": [
       "'\\nif(condititon):\\n    print(\"hello\") \\n\\nprint(\"hey\")\\n\\n\\n'"
      ]
     },
     "execution_count": 68,
     "metadata": {},
     "output_type": "execute_result"
    }
   ],
   "source": [
    "# conditional statement\n",
    "# if-else\n",
    "'''\n",
    "if(condititon):\n",
    "    print(\"hello\") \n",
    "\n",
    "print(\"hey\")\n",
    "\n",
    "\n",
    "'''"
   ]
  },
  {
   "cell_type": "code",
   "execution_count": 71,
   "id": "3e3eb505",
   "metadata": {},
   "outputs": [],
   "source": [
    "x=12\n",
    "\n",
    "if(x==10):\n",
    "    print(\"Number is 10\")\n",
    "    "
   ]
  },
  {
   "cell_type": "code",
   "execution_count": 74,
   "id": "06d02588",
   "metadata": {},
   "outputs": [
    {
     "name": "stdout",
     "output_type": "stream",
     "text": [
      "Number is 10\n"
     ]
    }
   ],
   "source": [
    "x=12\n",
    "\n",
    "if(True):\n",
    "    print(\"Number is 10\")\n",
    "    "
   ]
  },
  {
   "cell_type": "code",
   "execution_count": 75,
   "id": "70f6df38",
   "metadata": {},
   "outputs": [
    {
     "data": {
      "text/plain": [
       "True"
      ]
     },
     "execution_count": 75,
     "metadata": {},
     "output_type": "execute_result"
    }
   ],
   "source": [
    "x=10\n",
    "x==10"
   ]
  },
  {
   "cell_type": "code",
   "execution_count": 78,
   "id": "72dc748c",
   "metadata": {},
   "outputs": [
    {
     "name": "stdout",
     "output_type": "stream",
     "text": [
      "Condition is false\n"
     ]
    }
   ],
   "source": [
    "x=15\n",
    "\n",
    "if(x==12):\n",
    "    print(\"Number is 12\")\n",
    "else:\n",
    "    print(\"Condition is false\")"
   ]
  },
  {
   "cell_type": "code",
   "execution_count": 80,
   "id": "46d03c18",
   "metadata": {},
   "outputs": [
    {
     "name": "stdout",
     "output_type": "stream",
     "text": [
      "Condition is false\n",
      "Condition is false\n"
     ]
    }
   ],
   "source": [
    "x=17\n",
    "\n",
    "if(x==12):\n",
    "    print(\"Number is 12\")\n",
    "else:\n",
    "    print(\"Condition is false\")\n",
    "    \n",
    "if(x==15):\n",
    "    print(\"Number is 15\")\n",
    "else:\n",
    "    print(\"Condition is false\")"
   ]
  },
  {
   "cell_type": "code",
   "execution_count": 82,
   "id": "7dbffb9f",
   "metadata": {},
   "outputs": [
    {
     "name": "stdout",
     "output_type": "stream",
     "text": [
      "Condition is false\n"
     ]
    }
   ],
   "source": [
    "x=17\n",
    "\n",
    "if(x==12):\n",
    "    print(\"Number is 12\")\n",
    "elif(x==15):\n",
    "    print(\"Number is 15\")\n",
    "else:\n",
    "    print(\"Condition is false\")"
   ]
  },
  {
   "cell_type": "code",
   "execution_count": 86,
   "id": "5b2ed3e2",
   "metadata": {},
   "outputs": [
    {
     "name": "stdout",
     "output_type": "stream",
     "text": [
      "Enter a number:20\n",
      "<class 'int'> 20\n"
     ]
    }
   ],
   "source": [
    "age= int( input(\"Enter a number:\") )\n",
    "print(type(age),age)"
   ]
  },
  {
   "cell_type": "code",
   "execution_count": 87,
   "id": "65ea4e7a",
   "metadata": {},
   "outputs": [],
   "source": [
    "# to take a input from the user and check whether the number is \n",
    "# divisible by 6"
   ]
  },
  {
   "cell_type": "code",
   "execution_count": 94,
   "id": "1c75ff5c",
   "metadata": {},
   "outputs": [],
   "source": [
    "x=15\n",
    "\n",
    "if( x%2==0  and  x%3==0       ):\n",
    "    print(\"Number divide by 2 &3\")"
   ]
  },
  {
   "cell_type": "code",
   "execution_count": null,
   "id": "ad7434e8",
   "metadata": {},
   "outputs": [],
   "source": [
    "# take a int number from the user and print the weekday\n",
    "# take a int number from the user and print the month name\n",
    "\n",
    "'''\n",
    "Take a number from the user\n",
    "- if the number is less than 60 => fail\n",
    "- if number is more than 60 and less than 80  => average\n",
    "- if number is more than 80 and less than 90  => good\n",
    "- if number is more tham 90  => excellent\n",
    "\n",
    "-- for loop\n",
    "\n",
    "'''"
   ]
  }
 ],
 "metadata": {
  "kernelspec": {
   "display_name": "Python 3 (ipykernel)",
   "language": "python",
   "name": "python3"
  },
  "language_info": {
   "codemirror_mode": {
    "name": "ipython",
    "version": 3
   },
   "file_extension": ".py",
   "mimetype": "text/x-python",
   "name": "python",
   "nbconvert_exporter": "python",
   "pygments_lexer": "ipython3",
   "version": "3.10.11"
  }
 },
 "nbformat": 4,
 "nbformat_minor": 5
}
