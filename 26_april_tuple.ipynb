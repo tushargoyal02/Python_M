{
 "cells": [
  {
   "cell_type": "code",
   "execution_count": 10,
   "id": "3a905a97",
   "metadata": {},
   "outputs": [
    {
     "name": "stdout",
     "output_type": "stream",
     "text": [
      "['hey', 'tushar', 'hey', 'hello', 'hey', 'user', '', 'user', 'hey'] <class 'list'>\n"
     ]
    }
   ],
   "source": [
    "data=\"hey tushar hey hello hey user  user hey\"\n",
    "\n",
    "# [hey tushar hello user]\n",
    "\n",
    "x=data.split(\" \")\n",
    "print(x, type(x))"
   ]
  },
  {
   "cell_type": "code",
   "execution_count": 23,
   "id": "7ba4053e",
   "metadata": {},
   "outputs": [],
   "source": [
    "data=\"hey tushar hey hello hey user  user hey\"\n",
    "\n",
    "mylist=data.split()\n",
    "newlist=[]\n",
    "for i in mylist:\n",
    "    if (i not in newlist):\n",
    "        newlist.append(i)"
   ]
  },
  {
   "cell_type": "code",
   "execution_count": 24,
   "id": "f0d11f89",
   "metadata": {},
   "outputs": [
    {
     "data": {
      "text/plain": [
       "['hey', 'tushar', 'hello', 'user']"
      ]
     },
     "execution_count": 24,
     "metadata": {},
     "output_type": "execute_result"
    }
   ],
   "source": [
    "newlist\n"
   ]
  },
  {
   "cell_type": "code",
   "execution_count": null,
   "id": "23aba2a6",
   "metadata": {},
   "outputs": [],
   "source": [
    "# tuple\n",
    "# collection of multiple element\n",
    "# immutable\n",
    "# index position ()"
   ]
  },
  {
   "cell_type": "code",
   "execution_count": 29,
   "id": "85711c73",
   "metadata": {},
   "outputs": [
    {
     "name": "stdout",
     "output_type": "stream",
     "text": [
      "<class 'tuple'>\n"
     ]
    }
   ],
   "source": [
    "mytuple=10,\n",
    "print(type(mytuple))"
   ]
  },
  {
   "cell_type": "code",
   "execution_count": 31,
   "id": "38c99d64",
   "metadata": {},
   "outputs": [
    {
     "name": "stdout",
     "output_type": "stream",
     "text": [
      "<class 'tuple'>\n"
     ]
    }
   ],
   "source": [
    "mytuple=(10,20,\"hey\",10.0)\n",
    "print(type(mytuple))"
   ]
  },
  {
   "cell_type": "code",
   "execution_count": 37,
   "id": "5f69bc78",
   "metadata": {},
   "outputs": [
    {
     "data": {
      "text/plain": [
       "(10, 20, 'hey')"
      ]
     },
     "execution_count": 37,
     "metadata": {},
     "output_type": "execute_result"
    }
   ],
   "source": [
    "mytuple[0:3]"
   ]
  },
  {
   "cell_type": "code",
   "execution_count": 39,
   "id": "6bf62495",
   "metadata": {},
   "outputs": [
    {
     "data": {
      "text/plain": [
       "2"
      ]
     },
     "execution_count": 39,
     "metadata": {},
     "output_type": "execute_result"
    }
   ],
   "source": [
    "mytuple.index(\"hey\")"
   ]
  },
  {
   "cell_type": "code",
   "execution_count": 42,
   "id": "2af6e045",
   "metadata": {},
   "outputs": [
    {
     "data": {
      "text/plain": [
       "(10, 20, 'hey', 10.0)"
      ]
     },
     "execution_count": 42,
     "metadata": {},
     "output_type": "execute_result"
    }
   ],
   "source": [
    "mytuple"
   ]
  },
  {
   "cell_type": "code",
   "execution_count": 46,
   "id": "58360906",
   "metadata": {},
   "outputs": [
    {
     "data": {
      "text/plain": [
       "1793471101056"
      ]
     },
     "execution_count": 46,
     "metadata": {},
     "output_type": "execute_result"
    }
   ],
   "source": [
    "mytuple=(10,20,\"hey\",10.0)\n",
    "id(mytuple)"
   ]
  },
  {
   "cell_type": "code",
   "execution_count": 48,
   "id": "a6357f0e",
   "metadata": {},
   "outputs": [
    {
     "data": {
      "text/plain": [
       "1793468820544"
      ]
     },
     "execution_count": 48,
     "metadata": {},
     "output_type": "execute_result"
    }
   ],
   "source": [
    "mytuple=mytuple+(60,70,80)\n",
    "id(mytuple)"
   ]
  },
  {
   "cell_type": "code",
   "execution_count": 49,
   "id": "b7d27fb8",
   "metadata": {},
   "outputs": [],
   "source": [
    "# \"hey tushar hey hello hello tushar tushar\""
   ]
  },
  {
   "cell_type": "code",
   "execution_count": 50,
   "id": "16ec4ea1",
   "metadata": {},
   "outputs": [],
   "source": [
    "# armstrong number\n",
    "# 153  => 1**3  +   5**3  +3**3   => 1+125+27 "
   ]
  },
  {
   "cell_type": "code",
   "execution_count": 58,
   "id": "c71635f3",
   "metadata": {},
   "outputs": [
    {
     "name": "stdout",
     "output_type": "stream",
     "text": [
      "1\n",
      "0\n"
     ]
    },
    {
     "data": {
      "text/plain": [
       "153"
      ]
     },
     "execution_count": 58,
     "metadata": {},
     "output_type": "execute_result"
    }
   ],
   "source": [
    "x=153\n",
    "rem1=x%10\n",
    "\n",
    "x=x//10\n",
    "\n",
    "#x=> 15  rem2=> 5\n",
    "rem2=x%10\n",
    "\n",
    "x=x//10\n",
    "rem3=x%10\n",
    "print(rem3)\n",
    "\n",
    "x=x//10\n",
    "print(x)\n",
    "\n",
    "rem1**3 + rem2**3+rem3**3"
   ]
  },
  {
   "cell_type": "code",
   "execution_count": 59,
   "id": "770beb4f",
   "metadata": {},
   "outputs": [
    {
     "name": "stdout",
     "output_type": "stream",
     "text": [
      "10\n"
     ]
    }
   ],
   "source": [
    "x=10\n",
    "x+5\n",
    "print(x)\n",
    "# 15   10  5  ( Error)"
   ]
  },
  {
   "cell_type": "code",
   "execution_count": 69,
   "id": "f1840462",
   "metadata": {},
   "outputs": [
    {
     "name": "stdout",
     "output_type": "stream",
     "text": [
      "Armstrong number\n"
     ]
    }
   ],
   "source": [
    "# more than 0\n",
    "# x=153   =>  %   , //\n",
    "# aisa data jo purani value ko yad raakhe ( variable)\n",
    "\n",
    "x=153\n",
    "originalnum=x\n",
    "total=0\n",
    "while(x>0):\n",
    "    \n",
    "    rem=x%10\n",
    "    total += rem**3\n",
    "    \n",
    "    x=x//10\n",
    "    \n",
    "if(total==originalnum):\n",
    "    print(\"Armstrong number\")\n",
    "else:\n",
    "    print(\"Not\")"
   ]
  },
  {
   "cell_type": "code",
   "execution_count": null,
   "id": "bfcd5d5e",
   "metadata": {},
   "outputs": [],
   "source": [
    "# to find out whether a 4digit number is a armstrong\n",
    "# to find all the unique word from a string no duplicacy\n",
    "#    \"hey hello user tushar tushar hello\"\n",
    "#   [hey, user]\n",
    "\n",
    "'''\n",
    "\n",
    "\n",
    "'''"
   ]
  }
 ],
 "metadata": {
  "kernelspec": {
   "display_name": "Python 3 (ipykernel)",
   "language": "python",
   "name": "python3"
  },
  "language_info": {
   "codemirror_mode": {
    "name": "ipython",
    "version": 3
   },
   "file_extension": ".py",
   "mimetype": "text/x-python",
   "name": "python",
   "nbconvert_exporter": "python",
   "pygments_lexer": "ipython3",
   "version": "3.10.11"
  }
 },
 "nbformat": 4,
 "nbformat_minor": 5
}
